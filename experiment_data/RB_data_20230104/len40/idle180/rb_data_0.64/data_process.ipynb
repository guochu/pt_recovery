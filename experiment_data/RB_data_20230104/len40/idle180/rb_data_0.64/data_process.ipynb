{
 "cells": [
  {
   "cell_type": "code",
   "execution_count": 1,
   "metadata": {},
   "outputs": [],
   "source": [
    "import json\n",
    "import re\n",
    "\n",
    "raw_log = open(\"standard_rb_sched.log\", \"r\")\n",
    "raw_log_str = raw_log.read()\n",
    "\n",
    "all_seqs = re.finditer(\n",
    "    r\"Generating standard RB Clifford sequence \\(n=\\d+, desired_net_cl=I\\) for qubit q1\\nRB Clifford sequece indices: \\[\\s*([\\d\\s]+)\\]\\nClifford decomposition strategy: epstein\",\n",
    "    raw_log_str,\n",
    "    flags=re.S\n",
    ")\n"
   ]
  },
  {
   "cell_type": "code",
   "execution_count": 2,
   "metadata": {},
   "outputs": [],
   "source": [
    "\n",
    "cl_op_log = []\n",
    "\n",
    "counter = 0\n",
    "for id_seq in all_seqs:\n",
    "    ids = [int(idstr) for idstr in id_seq.group(1).split()]\n",
    "    if counter == 0:\n",
    "        curr_sched_ids = []\n",
    "        cl_op_log.append(curr_sched_ids)\n",
    "    curr_sched_ids.append(ids)\n",
    "    counter += 1 \n",
    "    counter %= 39\n"
   ]
  },
  {
   "cell_type": "code",
   "execution_count": 3,
   "metadata": {},
   "outputs": [],
   "source": [
    "import numpy as np\n",
    "rb_data = []\n",
    "\n",
    "with open(\"rb_data_0.64.npy\", \"rb\") as f:\n",
    "    for i in range(200):\n",
    "        data = np.load(f)\n",
    "        rb_data.append(data)\n",
    "        \n",
    "raw_rb_data = np.reshape(rb_data,(200,39))"
   ]
  },
  {
   "cell_type": "code",
   "execution_count": 4,
   "metadata": {},
   "outputs": [],
   "source": [
    "final_data = []\n",
    "for i in range(200):\n",
    "     curr_cl_op_list= cl_op_log[i]\n",
    "     curr_rb_p0_list = raw_rb_data[i]\n",
    "     for j in range(39):\n",
    "        combined_data = {}\n",
    "        combined_data[\"cl_ops\"] = curr_cl_op_list[j]\n",
    "        combined_data[\"p0\"] = float(curr_rb_p0_list[j])\n",
    "        final_data.append(combined_data)"
   ]
  },
  {
   "cell_type": "code",
   "execution_count": 5,
   "metadata": {},
   "outputs": [
    {
     "data": {
      "text/plain": [
       "3147295"
      ]
     },
     "execution_count": 5,
     "metadata": {},
     "output_type": "execute_result"
    }
   ],
   "source": [
    "\n",
    "f = open(\"standard_rb_1q_full_data.json\", \"w\")\n",
    "jdata = json.dumps(final_data, indent=4)\n",
    "f.write(jdata)"
   ]
  },
  {
   "cell_type": "code",
   "execution_count": 6,
   "metadata": {},
   "outputs": [
    {
     "data": {
      "text/plain": [
       "[<matplotlib.lines.Line2D at 0x17acd2ed340>]"
      ]
     },
     "execution_count": 6,
     "metadata": {},
     "output_type": "execute_result"
    },
    {
     "data": {
      "image/png": "[encoded data removed]",
      "text/plain": [
       "<Figure size 432x288 with 1 Axes>"
      ]
     },
     "metadata": {
      "needs_background": "light"
     },
     "output_type": "display_data"
    }
   ],
   "source": [
    "rb_x = np.arange(1, 40)\n",
    "\n",
    "import matplotlib.pyplot as plt\n",
    "import numpy as np\n",
    "\n",
    "avg_rb_data = np.mean(raw_rb_data, axis=0)\n",
    "plt.plot(rb_x, avg_rb_data)"
   ]
  },
  {
   "cell_type": "markdown",
   "metadata": {},
   "source": []
  },
  {
   "cell_type": "markdown",
   "metadata": {},
   "source": []
  }
 ],
 "metadata": {
  "kernelspec": {
   "display_name": "Python 3.8.5 ('base')",
   "language": "python",
   "name": "python3"
  },
  "language_info": {
   "codemirror_mode": {
    "name": "ipython",
    "version": 3
   },
   "file_extension": ".py",
   "mimetype": "text/x-python",
   "name": "python",
   "nbconvert_exporter": "python",
   "pygments_lexer": "ipython3",
   "version": "3.8.5"
  },
  "orig_nbformat": 4,
  "vscode": {
   "interpreter": {
    "hash": "b672672bed8c6db2365a8d7ad55910bce168868b31e174c51a111db8433c88c6"
   }
  }
 },
 "nbformat": 4,
 "nbformat_minor": 2
}
