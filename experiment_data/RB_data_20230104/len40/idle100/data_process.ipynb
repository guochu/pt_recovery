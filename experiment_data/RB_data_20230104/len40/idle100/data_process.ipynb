{
 "cells": [
  {
   "cell_type": "code",
   "execution_count": 1,
   "metadata": {},
   "outputs": [],
   "source": [
    "import numpy as np\n",
    "import matplotlib.pyplot as plt"
   ]
  },
  {
   "cell_type": "code",
   "execution_count": null,
   "metadata": {},
   "outputs": [],
   "source": [
    "rb_x = np.arange(1,40)"
   ]
  },
  {
   "cell_type": "code",
   "execution_count": null,
   "metadata": {},
   "outputs": [],
   "source": [
    "rb_data_01 = []\n",
    "\n",
    "with open(\"rb_data_0.1.npy\", \"rb\") as f:\n",
    "    for i in range(200):\n",
    "        data = np.load(f)\n",
    "        rb_data_01.append(data)"
   ]
  },
  {
   "cell_type": "code",
   "execution_count": null,
   "metadata": {},
   "outputs": [],
   "source": [
    "\n",
    "for data in rb_data_01:\n",
    "    plt.plot(rb_x, data, \".\",alpha=0.1)"
   ]
  },
  {
   "cell_type": "code",
   "execution_count": null,
   "metadata": {},
   "outputs": [],
   "source": [
    "# A组 对应0.64 pulse amp 以下\n",
    "rb_data_01 = []\n",
    "rb_data_02 = []\n",
    "rb_data_03 = []\n",
    "rb_data_04 = []\n",
    "rb_data_05 = []\n",
    "rb_data_052 = []\n",
    "rb_data_054 = []\n",
    "rb_data_056 = []\n",
    "rb_data_058 = []\n",
    "rb_data_06 = []\n",
    "rb_data_061 = []        \n",
    "\n",
    "\n",
    "with open(\"rb_data_0.1.npy\", \"rb\") as f:\n",
    "    for i in range(200):\n",
    "        data = np.load(f)\n",
    "        rb_data_01.append(data)\n",
    "        \n",
    "\n",
    "with open(\"rb_data_0.2.npy\", \"rb\") as f:\n",
    "    for i in range(200):\n",
    "        data = np.load(f)\n",
    "        rb_data_02.append(data)\n",
    "\n",
    "with open(\"rb_data_0.3.npy\", \"rb\") as f:\n",
    "    for i in range(200):\n",
    "        data = np.load(f)\n",
    "        rb_data_03.append(data)\n",
    "        \n",
    "\n",
    "with open(\"rb_data_0.4.npy\", \"rb\") as f:\n",
    "    for i in range(200):\n",
    "        data = np.load(f)\n",
    "        rb_data_04.append(data)\n",
    "\n",
    "with open(\"rb_data_0.5.npy\", \"rb\") as f:\n",
    "    for i in range(200):\n",
    "        data = np.load(f)\n",
    "        rb_data_05.append(data)\n",
    "        \n",
    "\n",
    "with open(\"rb_data_0.52.npy\", \"rb\") as f:\n",
    "    for i in range(200):\n",
    "        data = np.load(f)\n",
    "        rb_data_052.append(data)\n",
    "\n",
    "with open(\"rb_data_0.54.npy\", \"rb\") as f:\n",
    "    for i in range(200):\n",
    "        data = np.load(f)\n",
    "        rb_data_054.append(data)\n",
    "        \n",
    "\n",
    "with open(\"rb_data_0.56.npy\", \"rb\") as f:\n",
    "    for i in range(200):\n",
    "        data = np.load(f)\n",
    "        rb_data_056.append(data)\n",
    "\n",
    "with open(\"rb_data_0.58.npy\", \"rb\") as f:\n",
    "    for i in range(200):\n",
    "        data = np.load(f)\n",
    "        rb_data_058.append(data)\n",
    "        \n",
    "\n",
    "with open(\"rb_data_0.6.npy\", \"rb\") as f:\n",
    "    for i in range(200):\n",
    "        data = np.load(f)\n",
    "        rb_data_06.append(data)\n",
    "\n",
    "with open(\"rb_data_0.61.npy\", \"rb\") as f:\n",
    "    for i in range(200):\n",
    "        data = np.load(f)\n",
    "        rb_data_061.append(data)"
   ]
  },
  {
   "cell_type": "code",
   "execution_count": null,
   "metadata": {},
   "outputs": [],
   "source": [
    "rb_data = rb_data_061\n",
    "\n",
    "fig, ax1 = plt.subplots()\n",
    "plt.errorbar(rb_x,np.mean(rb_data, axis=0),np.std(rb_data, axis=0), ecolor='k',elinewidth=0.5,marker='s',mfc='orange',\\\n",
    "    mec='k',mew=1,ms=5,alpha=1,capsize=5,capthick=3,linestyle=\"--\", color =\"blue\", label=\"pulse flux = 0.61\")\n",
    "ax1.set_xlabel('Number of randum clifords')\n",
    "ax1.set_ylabel('Probality')\n",
    "plt.legend()\n",
    "plt.xlim(-1,41);"
   ]
  },
  {
   "cell_type": "code",
   "execution_count": null,
   "metadata": {},
   "outputs": [],
   "source": [
    "def exp_func(nr_cl, alpha, A: float, B: float):\n",
    "    return A * (alpha**nr_cl) + B\n",
    "\n",
    "\n",
    "model = lmfit.Model(exp_func)\n",
    "model.set_param_hint(\"alpha\", value=0.9, vary=True)\n",
    "model.set_param_hint(\"A\", value=0.5, vary=True)\n",
    "model.set_param_hint(\"B\", value=0.5, vary=True)\n",
    "model.set_param_hint(\"FPC\", expr=\"(alpha + (1 - alpha) / 2)\")\n",
    "model.set_param_hint(\"EPC\", expr=\"1 - FPC\")\n",
    "model.set_param_hint(\"FPG\", expr=\"FPC**(1./1.875)\")\n",
    "model.set_param_hint(\"EPG\", expr=\"1 - FPG\")\n",
    "params = model.make_params()\n",
    "fit_result1 = model.fit(dset.y0.values, nr_cl=dset.x0.values)\n",
    "fit_result2 = model.fit(np.mean(rb_data_0, axis=0), nr_cl=rb_x)\n",
    "plt.figure(figsize=(10, 5))\n",
    "fit_result1.plot_fit(show_init=False)\n",
    "fit_result2.plot_fit(show_init=False)\n",
    "plt.legend(['without flux','without flux_fit', 'flux = 0','flux_fit = 0',])\n",
    "plt.grid() \n",
    "plt.xlabel(\"Number of randum Cliffords\")\n",
    "plt.ylabel(\"Averaged measured I\")\n",
    "plt.title(\"Standard RB\")"
   ]
  },
  {
   "cell_type": "code",
   "execution_count": null,
   "metadata": {},
   "outputs": [],
   "source": [
    "\n",
    "plt.plot(rb_x, np.mean(rb_data_01, axis=0), label=\"flux_amp=0.1\")\n",
    "plt.plot(rb_x, np.mean(rb_data_02, axis=0), label=\"flux_amp=0.2\")\n",
    "plt.plot(rb_x, np.mean(rb_data_03, axis=0), label=\"flux_amp=0.3\")\n",
    "plt.plot(rb_x, np.mean(rb_data_04, axis=0), label=\"flux_amp=0.4\")\n",
    "plt.plot(rb_x, np.mean(rb_data_05, axis=0), label=\"flux_amp=0.5\")\n",
    "plt.plot(rb_x, np.mean(rb_data_052, axis=0), label=\"flux_amp=0.52\")\n",
    "plt.plot(rb_x, np.mean(rb_data_054, axis=0), label=\"flux_amp=0.54\")\n",
    "plt.plot(rb_x, np.mean(rb_data_056, axis=0), label=\"flux_amp=0.56\")\n",
    "plt.plot(rb_x, np.mean(rb_data_058, axis=0), label=\"flux_amp=0.58\")\n",
    "plt.plot(rb_x, np.mean(rb_data_06, axis=0), label=\"flux_amp=0.6\")\n",
    "plt.plot(rb_x, np.mean(rb_data_061, axis=0), label=\"flux_amp=0.61\")\n",
    "# plt.plot(rb_x, np.mean(rb_data_062, axis=0), label=\"flux_amp=0.62\")\n",
    "# plt.plot(rb_x, np.mean(rb_data_063, axis=0), label=\"flux_amp=0.63\")\n",
    "# plt.plot(rb_x, np.mean(rb_data_064, axis=0), label=\"flux_amp=0.64\")\n",
    "# plt.xlim(-1,50)\n",
    "# # plt.ylim(0.4,1)\n",
    "plt.legend(loc='right', bbox_to_anchor=(1.4, 0.5),ncol=1)\n"
   ]
  },
  {
   "cell_type": "markdown",
   "metadata": {},
   "source": []
  },
  {
   "cell_type": "code",
   "execution_count": 27,
   "metadata": {},
   "outputs": [],
   "source": [
    "import os\n",
    "path = 'rb_data_0.64'\n",
    "if not os.path.exists(path):\n",
    "    os.mkdir(path)"
   ]
  },
  {
   "cell_type": "code",
   "execution_count": null,
   "metadata": {},
   "outputs": [],
   "source": []
  }
 ],
 "metadata": {
  "kernelspec": {
   "display_name": "Quantify-Env",
   "language": "python",
   "name": "python3"
  },
  "language_info": {
   "codemirror_mode": {
    "name": "ipython",
    "version": 3
   },
   "file_extension": ".py",
   "mimetype": "text/x-python",
   "name": "python",
   "nbconvert_exporter": "python",
   "pygments_lexer": "ipython3",
   "version": "3.8.10"
  },
  "orig_nbformat": 4,
  "vscode": {
   "interpreter": {
    "hash": "db2eeba043cc0af7c63498a8c49e2f6d5ef54a45c2094ce39b0943ca1600e0a2"
   }
  }
 },
 "nbformat": 4,
 "nbformat_minor": 2
}
